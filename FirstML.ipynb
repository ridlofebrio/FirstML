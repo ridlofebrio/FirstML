{
  "nbformat": 4,
  "nbformat_minor": 0,
  "metadata": {
    "colab": {
      "provenance": [],
      "authorship_tag": "ABX9TyMnUqbtgfdquQgt0bk/uPxj",
      "include_colab_link": true
    },
    "kernelspec": {
      "name": "python3",
      "display_name": "Python 3"
    },
    "language_info": {
      "name": "python"
    }
  },
  "cells": [
    {
      "cell_type": "markdown",
      "metadata": {
        "id": "view-in-github",
        "colab_type": "text"
      },
      "source": [
        "<a href=\"https://colab.research.google.com/github/ridlofebrio/FirstML/blob/main/FirstML.ipynb\" target=\"_parent\"><img src=\"https://colab.research.google.com/assets/colab-badge.svg\" alt=\"Open In Colab\"/></a>"
      ]
    },
    {
      "cell_type": "code",
      "execution_count": null,
      "metadata": {
        "id": "MRMSiNQtEDV9"
      },
      "outputs": [],
      "source": [
        "import pandas as pd\n",
        "data = {\n",
        "    'Lokasi': ['A', 'B', 'C', 'D', 'E', 'F', 'G', 'H', 'I', 'J', 'K', 'L', 'M', 'N', 'O', 'P', 'Q', 'R', 'S', 'T'],\n",
        "    'Harga per m2': [5000000, 4500000, 6000000, 5500000, 5200000, 4800000, 6100000, 5400000, 5100000, 4700000, 6300000, 5600000, 5300000, 4900000, 6400000, 5700000, 5200000, 4600000, 6200000, 5500000],\n",
        "    'Luas Tanah': [200, 150, 250, 180, 220, 160, 240, 170, 210, 140, 260, 190, 230, 160, 270, 200, 180, 150, 250, 170],\n",
        "    'Pendapatan Rata-rata Wilayah': [8000000, 9000000, 7500000, 8500000, 8200000, 8800000, 7600000, 8900000, 8100000, 9300000, 7300000, 8700000, 7900000, 9100000, 7200000, 8500000, 8300000, 9200000, 7400000, 9000000],\n",
        "    'Harga Jual': [10000000, 11000000, 9500000, 10500000, 10800000, 11200000, 9700000, 10700000, 10300000, 11500000, 9300000, 10600000, 9800000, 11200000, 9200000, 10500000, 10400000, 11400000, 9400000, 11000000]\n",
        "}\n",
        "df = pd.DataFrame(data)\n",
        "\n"
      ]
    },
    {
      "cell_type": "code",
      "source": [
        "from sklearn.model_selection import train_test_split\n",
        "from sklearn.linear_model import LinearRegression\n",
        "\n",
        "# Memisahkan data menjadi fitur dan label\n",
        "X = df[['Harga per m2', 'Luas Tanah', 'Pendapatan Rata-rata Wilayah']]\n",
        "y = df['Harga Jual']\n",
        "\n",
        "# Membagi data menjadi data pelatihan dan pengujian\n",
        "X_train, X_test, y_train, y_test = train_test_split(X, y, test_size=0.2, random_state=0)\n",
        "\n",
        "# Melatih model regresi linear\n",
        "model = LinearRegression()\n",
        "model.fit(X_train, y_train)\n",
        "\n",
        "print(\"Koefisien (intersep):\", model.intercept_)\n",
        "print(\"Koefisien (koefisien regresi):\", model.coef_)\n",
        "print(\"Skor R-squared (koefisien determinasi):\", model.score(X_test, y_test))\n"
      ],
      "metadata": {
        "colab": {
          "base_uri": "https://localhost:8080/"
        },
        "id": "VXcHnR9OFB14",
        "outputId": "101f7a9b-87f5-407c-8320-96a9de263c2c"
      },
      "execution_count": null,
      "outputs": [
        {
          "output_type": "stream",
          "name": "stdout",
          "text": [
            "Koefisien (intersep): 2319152.5288177077\n",
            "Koefisien (koefisien regresi): [-3.56016058e-01  4.75746452e+03  1.08899448e+00]\n",
            "Skor R-squared (koefisien determinasi): 0.9671893026909666\n"
          ]
        }
      ]
    },
    {
      "cell_type": "code",
      "source": [
        "from sklearn.metrics import mean_squared_error\n",
        "\n",
        "# Menggunakan model untuk membuat prediksi\n",
        "y_pred = model.predict(X_test)\n",
        "\n",
        "# Menghitung MSE\n",
        "mse = mean_squared_error(y_test, y_pred)\n",
        "\n",
        "print(\"Mean Squared Error:\", mse)\n"
      ],
      "metadata": {
        "colab": {
          "base_uri": "https://localhost:8080/"
        },
        "id": "uKxFYG7-GYqj",
        "outputId": "c534f491-9129-4849-c774-e74779a2dda9"
      },
      "execution_count": null,
      "outputs": [
        {
          "output_type": "stream",
          "name": "stdout",
          "text": [
            "Mean Squared Error: 14170119900.338783\n"
          ]
        }
      ]
    }
  ]
}